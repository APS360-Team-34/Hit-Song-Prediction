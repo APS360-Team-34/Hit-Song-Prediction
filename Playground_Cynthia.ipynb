{
  "nbformat": 4,
  "nbformat_minor": 0,
  "metadata": {
    "colab": {
      "name": "Playground_Cynthia.ipynb",
      "provenance": []
    },
    "kernelspec": {
      "name": "python3",
      "display_name": "Python 3"
    }
  },
  "cells": [
    {
      "cell_type": "code",
      "metadata": {
        "id": "QgwabplCo_ID",
        "colab_type": "code",
        "colab": {
          "base_uri": "https://localhost:8080/",
          "height": 126
        },
        "outputId": "ae38edbf-b790-4de0-817d-cbb481f45def"
      },
      "source": [
        "#Mount Google Drive\n",
        "# link to your Google Drive\n",
        "from google.colab import drive\n",
        "drive.mount('/content/drive')"
      ],
      "execution_count": 2,
      "outputs": [
        {
          "output_type": "stream",
          "text": [
            "Go to this URL in a browser: https://accounts.google.com/o/oauth2/auth?client_id=947318989803-6bn6qk8qdgf4n4g3pfee6491hc0brc4i.apps.googleusercontent.com&redirect_uri=urn%3aietf%3awg%3aoauth%3a2.0%3aoob&response_type=code&scope=email%20https%3a%2f%2fwww.googleapis.com%2fauth%2fdocs.test%20https%3a%2f%2fwww.googleapis.com%2fauth%2fdrive%20https%3a%2f%2fwww.googleapis.com%2fauth%2fdrive.photos.readonly%20https%3a%2f%2fwww.googleapis.com%2fauth%2fpeopleapi.readonly\n",
            "\n",
            "Enter your authorization code:\n",
            "··········\n",
            "Mounted at /content/drive\n"
          ],
          "name": "stdout"
        }
      ]
    },
    {
      "cell_type": "code",
      "metadata": {
        "id": "3l5aoA1FqR13",
        "colab_type": "code",
        "colab": {}
      },
      "source": [
        "import sys\n",
        "\n",
        "# Add the path to system, local or mounted S3 bucket, e.g. /dbfs/mnt/<path_to_bucket>\n",
        "sys.path.append('/content/drive/My Drive/Colab Notebooks/Project')\n",
        "sys.path.append('/content/drive/My Drive/Colab Notebooks/Project/Hit-Song-Prediction')\n",
        "sys.path.append('/content/drive/My Drive/Colab Notebooks/Project/Hit-Song-Prediction/SpotifyConnection.py')"
      ],
      "execution_count": 7,
      "outputs": []
    },
    {
      "cell_type": "code",
      "metadata": {
        "id": "dhE83bnUqtw-",
        "colab_type": "code",
        "colab": {
          "base_uri": "https://localhost:8080/",
          "height": 195
        },
        "outputId": "58295749-ec95-4819-ba3b-1debe6449d3a"
      },
      "source": [
        "!pip install spotipy"
      ],
      "execution_count": 9,
      "outputs": [
        {
          "output_type": "stream",
          "text": [
            "Collecting spotipy\n",
            "  Downloading https://files.pythonhosted.org/packages/f1/62/210c7942dede1c0d39aa56520d59c4565e232f957ea4caea87da7e6f3e61/spotipy-2.13.0-py3-none-any.whl\n",
            "Requirement already satisfied: six>=1.10.0 in /usr/local/lib/python3.6/dist-packages (from spotipy) (1.12.0)\n",
            "Requirement already satisfied: requests>=2.20.0 in /usr/local/lib/python3.6/dist-packages (from spotipy) (2.23.0)\n",
            "Requirement already satisfied: chardet<4,>=3.0.2 in /usr/local/lib/python3.6/dist-packages (from requests>=2.20.0->spotipy) (3.0.4)\n",
            "Requirement already satisfied: idna<3,>=2.5 in /usr/local/lib/python3.6/dist-packages (from requests>=2.20.0->spotipy) (2.9)\n",
            "Requirement already satisfied: certifi>=2017.4.17 in /usr/local/lib/python3.6/dist-packages (from requests>=2.20.0->spotipy) (2020.6.20)\n",
            "Requirement already satisfied: urllib3!=1.25.0,!=1.25.1,<1.26,>=1.21.1 in /usr/local/lib/python3.6/dist-packages (from requests>=2.20.0->spotipy) (1.24.3)\n",
            "Installing collected packages: spotipy\n",
            "Successfully installed spotipy-2.13.0\n"
          ],
          "name": "stdout"
        }
      ]
    },
    {
      "cell_type": "code",
      "metadata": {
        "id": "y-ifPFXUob8I",
        "colab_type": "code",
        "colab": {}
      },
      "source": [
        "from SpotifyConnection import get_spotify_connection\n",
        "import Playlist as PL\n",
        "from Playlist import Playlist\n",
        "from DataProcessing import normalize_dataframe, DataInformation, SpotifyTracksDataset\n",
        "\n",
        "\n",
        "import torch\n",
        "import torch.nn as nn\n",
        "import torch.optim as optim\n",
        "from torch.utils.data.sampler import SubsetRandomSampler"
      ],
      "execution_count": 10,
      "outputs": []
    },
    {
      "cell_type": "code",
      "metadata": {
        "id": "FtkjFrxStUWa",
        "colab_type": "code",
        "colab": {}
      },
      "source": [
        "import numpy as np\n",
        "import random\n",
        "import matplotlib.pyplot as plt\n",
        "import pandas as pd"
      ],
      "execution_count": 132,
      "outputs": []
    },
    {
      "cell_type": "code",
      "metadata": {
        "id": "Ry0XyVJQq3fK",
        "colab_type": "code",
        "colab": {
          "base_uri": "https://localhost:8080/",
          "height": 342
        },
        "outputId": "4c455c85-c0de-47f5-b3f1-b453e60da38e"
      },
      "source": [
        "sp = get_spotify_connection()\n",
        "\n",
        "pl = Playlist(\"2sRZldX6n9oaII70OoO3zB\")\n",
        "pl.load_playlist_tracks(sp)\n",
        "PL.save_playlist(pl)\n",
        "\n",
        "pl = PL.load_playlist(\"playlist_2sRZldX6n9oaII70OoO3zB\")\n",
        "df = pl.load_playlist_df(sp)\n",
        "PL.save_playlist(pl)\n",
        "\n",
        "pl = PL.load_playlist(\"playlist_2sRZldX6n9oaII70OoO3zB\")\n",
        "df = pl.get_playlist_df(cols=DataInformation.list())\n",
        "normalized_df = normalize_dataframe(df)\n",
        "normalized_df.head()"
      ],
      "execution_count": 13,
      "outputs": [
        {
          "output_type": "stream",
          "text": [
            "Loading playlist 2sRZldX6n9oaII70OoO3zB tracks...\n",
            "Done.\n",
            "Saved playlist into file: playlist_2sRZldX6n9oaII70OoO3zB\n",
            "Loaded playlist from file: playlist_2sRZldX6n9oaII70OoO3zB\n",
            "Loading playlist 2sRZldX6n9oaII70OoO3zB track information into DataFrame...\n",
            "Done.\n",
            "Saved playlist into file: playlist_2sRZldX6n9oaII70OoO3zB\n",
            "Loaded playlist from file: playlist_2sRZldX6n9oaII70OoO3zB\n"
          ],
          "name": "stdout"
        },
        {
          "output_type": "execute_result",
          "data": {
            "text/html": [
              "<div>\n",
              "<style scoped>\n",
              "    .dataframe tbody tr th:only-of-type {\n",
              "        vertical-align: middle;\n",
              "    }\n",
              "\n",
              "    .dataframe tbody tr th {\n",
              "        vertical-align: top;\n",
              "    }\n",
              "\n",
              "    .dataframe thead th {\n",
              "        text-align: right;\n",
              "    }\n",
              "</style>\n",
              "<table border=\"1\" class=\"dataframe\">\n",
              "  <thead>\n",
              "    <tr style=\"text-align: right;\">\n",
              "      <th></th>\n",
              "      <th>duration</th>\n",
              "      <th>key</th>\n",
              "      <th>mode</th>\n",
              "      <th>time_signature</th>\n",
              "      <th>acousticness</th>\n",
              "      <th>danceability</th>\n",
              "      <th>energy</th>\n",
              "      <th>instrumentalness</th>\n",
              "      <th>liveness</th>\n",
              "      <th>loudness</th>\n",
              "      <th>speechiness</th>\n",
              "      <th>valence</th>\n",
              "      <th>tempo</th>\n",
              "      <th>popularity</th>\n",
              "    </tr>\n",
              "  </thead>\n",
              "  <tbody>\n",
              "    <tr>\n",
              "      <th>0</th>\n",
              "      <td>0.068542</td>\n",
              "      <td>0.000000</td>\n",
              "      <td>1.0</td>\n",
              "      <td>0.8</td>\n",
              "      <td>0.111444</td>\n",
              "      <td>0.805471</td>\n",
              "      <td>0.595076</td>\n",
              "      <td>0.0</td>\n",
              "      <td>0.145511</td>\n",
              "      <td>0.858757</td>\n",
              "      <td>0.079468</td>\n",
              "      <td>0.409</td>\n",
              "      <td>0.616788</td>\n",
              "      <td>0.76</td>\n",
              "    </tr>\n",
              "    <tr>\n",
              "      <th>1</th>\n",
              "      <td>0.066175</td>\n",
              "      <td>0.909091</td>\n",
              "      <td>0.0</td>\n",
              "      <td>0.8</td>\n",
              "      <td>0.344376</td>\n",
              "      <td>0.701114</td>\n",
              "      <td>0.714348</td>\n",
              "      <td>0.0</td>\n",
              "      <td>0.083591</td>\n",
              "      <td>0.896666</td>\n",
              "      <td>0.373404</td>\n",
              "      <td>0.615</td>\n",
              "      <td>0.627561</td>\n",
              "      <td>0.63</td>\n",
              "    </tr>\n",
              "    <tr>\n",
              "      <th>2</th>\n",
              "      <td>0.067781</td>\n",
              "      <td>0.727273</td>\n",
              "      <td>0.0</td>\n",
              "      <td>1.0</td>\n",
              "      <td>0.241966</td>\n",
              "      <td>0.493414</td>\n",
              "      <td>0.366554</td>\n",
              "      <td>0.0</td>\n",
              "      <td>0.108359</td>\n",
              "      <td>0.787748</td>\n",
              "      <td>0.056489</td>\n",
              "      <td>0.161</td>\n",
              "      <td>0.311547</td>\n",
              "      <td>0.75</td>\n",
              "    </tr>\n",
              "    <tr>\n",
              "      <th>3</th>\n",
              "      <td>0.055939</td>\n",
              "      <td>0.727273</td>\n",
              "      <td>1.0</td>\n",
              "      <td>1.0</td>\n",
              "      <td>0.127508</td>\n",
              "      <td>0.597771</td>\n",
              "      <td>0.653209</td>\n",
              "      <td>0.0</td>\n",
              "      <td>0.042931</td>\n",
              "      <td>0.865515</td>\n",
              "      <td>0.356383</td>\n",
              "      <td>0.691</td>\n",
              "      <td>0.569657</td>\n",
              "      <td>0.29</td>\n",
              "    </tr>\n",
              "    <tr>\n",
              "      <th>4</th>\n",
              "      <td>0.070991</td>\n",
              "      <td>0.090909</td>\n",
              "      <td>1.0</td>\n",
              "      <td>0.8</td>\n",
              "      <td>0.035641</td>\n",
              "      <td>0.834853</td>\n",
              "      <td>0.734394</td>\n",
              "      <td>0.0</td>\n",
              "      <td>0.312693</td>\n",
              "      <td>0.874820</td>\n",
              "      <td>0.065213</td>\n",
              "      <td>0.393</td>\n",
              "      <td>0.447603</td>\n",
              "      <td>0.75</td>\n",
              "    </tr>\n",
              "  </tbody>\n",
              "</table>\n",
              "</div>"
            ],
            "text/plain": [
              "   duration       key  mode  ...  valence     tempo  popularity\n",
              "0  0.068542  0.000000   1.0  ...    0.409  0.616788        0.76\n",
              "1  0.066175  0.909091   0.0  ...    0.615  0.627561        0.63\n",
              "2  0.067781  0.727273   0.0  ...    0.161  0.311547        0.75\n",
              "3  0.055939  0.727273   1.0  ...    0.691  0.569657        0.29\n",
              "4  0.070991  0.090909   1.0  ...    0.393  0.447603        0.75\n",
              "\n",
              "[5 rows x 14 columns]"
            ]
          },
          "metadata": {
            "tags": []
          },
          "execution_count": 13
        }
      ]
    },
    {
      "cell_type": "code",
      "metadata": {
        "id": "WjHVv8LJwMtt",
        "colab_type": "code",
        "colab": {}
      },
      "source": [
        "def train_validate_test_split(df, train_percent=.7, validate_percent=.15, seed=50):\n",
        "    np.random.seed(seed)\n",
        "    perm = np.random.permutation(df.index)\n",
        "    m = len(df.index)\n",
        "    train_end = int(train_percent * m)\n",
        "    validate_end = int(validate_percent * m) + train_end\n",
        "    train = df.iloc[perm[:train_end]]\n",
        "    validate = df.iloc[perm[train_end:validate_end]]\n",
        "    test = df.iloc[perm[validate_end:]]\n",
        "    return train, validate, test"
      ],
      "execution_count": 56,
      "outputs": []
    },
    {
      "cell_type": "code",
      "metadata": {
        "id": "cLI9R7nQz9Nn",
        "colab_type": "code",
        "colab": {}
      },
      "source": [
        "train, validate, test = train_validate_test_split(normalized_df)"
      ],
      "execution_count": 57,
      "outputs": []
    },
    {
      "cell_type": "code",
      "metadata": {
        "id": "UXcR5NLwrCqD",
        "colab_type": "code",
        "colab": {}
      },
      "source": [
        "class TestNet(nn.Module):\n",
        "    def __init__(self):\n",
        "        super(TestNet, self).__init__()\n",
        "        self.layers = nn.Sequential(\n",
        "            nn.Linear(13, 50),\n",
        "            nn.Sigmoid(),\n",
        "            nn.Linear(50, 80),\n",
        "            nn.Sigmoid(),\n",
        "            nn.Linear(80, 100),\n",
        "            nn.Sigmoid(),\n",
        "            nn.Linear(100,1),\n",
        "            nn.Sigmoid()\n",
        "        )\n",
        "    def forward(self, x):\n",
        "        x = self.layers(x)\n",
        "        return x"
      ],
      "execution_count": 88,
      "outputs": []
    },
    {
      "cell_type": "code",
      "metadata": {
        "id": "WJgFSWgvrmrH",
        "colab_type": "code",
        "colab": {}
      },
      "source": [
        "net = TestNet()"
      ],
      "execution_count": 89,
      "outputs": []
    },
    {
      "cell_type": "code",
      "metadata": {
        "id": "HzkDgx6HrriJ",
        "colab_type": "code",
        "colab": {}
      },
      "source": [
        "def train_net(model, train, validate, num_epochs=5, learning_rate=1e-4):\n",
        "    \n",
        "    train_ds = SpotifyTracksDataset(train)\n",
        "    train_loader = torch.utils.data.DataLoader(train_ds, batch_size=bs, shuffle=True)\n",
        "\n",
        "    val_ds = SpotifyTracksDataset(validate)\n",
        "    val_loader = torch.utils.data.DataLoader(val_ds, batch_size=bs, shuffle=True)\n",
        "    \n",
        "    torch.manual_seed(42)\n",
        "    criterion = nn.MSELoss()\n",
        "    optimizer = torch.optim.Adam(model.parameters(), lr=learning_rate)\n",
        "    \n",
        "    epochs, iters, train_loss, val_loss, train_acc, val_acc = [], [], [], [], [], []\n",
        "    n = 0 # the number of iterations\n",
        "    for epoch in range(num_epochs):\n",
        "        error_train = 0\n",
        "        error_val = 0\n",
        "        for features, targets in train_loader:\n",
        "            optimizer.zero_grad()\n",
        "            out = net(features)\n",
        "            loss = criterion(out, targets)\n",
        "            loss.backward()\n",
        "            optimizer.step()\n",
        "            error_train += (targets - out).abs().sum().item()\n",
        "\n",
        "        #save the current training info\n",
        "        iters.append(n)\n",
        "        train_loss.append(loss.item())\n",
        "            \n",
        "\n",
        "        for features, targets in val_loader:\n",
        "            optimizer.zero_grad()\n",
        "            out = net(features)\n",
        "            loss = criterion(out, targets)\n",
        "            error_val += (targets - out).abs().sum().item()\n",
        "\n",
        "        val_loss.append(loss.item())\n",
        "\n",
        "        #get accuracy\n",
        "        train_acc.append(error_train/len(train_ds)) \n",
        "        val_acc.append(error_val/len(val_ds))\n",
        "        n += 1\n",
        "        print((\"Epoch {}: Training Accuracy {} |\"+\"Validation Accuracy {}\").format(epoch, train_acc[epoch], val_acc[epoch]))\n",
        "\n",
        "    # plotting\n",
        "    plt.title(\"Training Curve\")\n",
        "    plt.plot(iters, train_loss, label=\"Train\")\n",
        "    plt.plot(iters, val_loss, label=\"Validation\")\n",
        "    plt.xlabel(\"Iterations\")\n",
        "    plt.ylabel(\"Loss\")\n",
        "    plt.show()\n",
        "\n",
        "    plt.title(\"Training Curve\")\n",
        "    plt.plot(iters, train_acc, label=\"Train\")\n",
        "    plt.plot(iters, val_acc, label=\"Validation\")\n",
        "    plt.xlabel(\"Iterations\")\n",
        "    plt.ylabel(\"Accuracy\")\n",
        "    plt.legend(loc='best')\n",
        "    plt.show()\n",
        "\n",
        "    print(\"Final Training Accuracy: {}\".format(train_acc[-1]))\n",
        "    print(\"Final Validation Accuracy: {}\".format(val_acc[-1]))"
      ],
      "execution_count": 90,
      "outputs": []
    },
    {
      "cell_type": "code",
      "metadata": {
        "id": "9EkNhLfX7v7I",
        "colab_type": "code",
        "colab": {
          "base_uri": "https://localhost:8080/",
          "height": 964
        },
        "outputId": "6d83c2b3-049e-4ea6-e3af-ecf9de397856"
      },
      "source": [
        "train_net(net, train, validate, 20, 1e-3)"
      ],
      "execution_count": 91,
      "outputs": [
        {
          "output_type": "stream",
          "text": [
            "Epoch 0: Training Accuracy 0.2464952919934247 |Validation Accuracy 0.24631870950309975\n",
            "Epoch 1: Training Accuracy 0.2467146058588167 |Validation Accuracy 0.24529859684046032\n",
            "Epoch 2: Training Accuracy 0.2422448570168192 |Validation Accuracy 0.22698713159098208\n",
            "Epoch 3: Training Accuracy 0.22646854003105243 |Validation Accuracy 0.21184177711172011\n",
            "Epoch 4: Training Accuracy 0.21545654324632674 |Validation Accuracy 0.20240358588764967\n",
            "Epoch 5: Training Accuracy 0.21252488916480367 |Validation Accuracy 0.2042528113115181\n",
            "Epoch 6: Training Accuracy 0.21095225555733188 |Validation Accuracy 0.20103618068602477\n",
            "Epoch 7: Training Accuracy 0.20925337708169853 |Validation Accuracy 0.20608643362823043\n",
            "Epoch 8: Training Accuracy 0.20937000713824233 |Validation Accuracy 0.20282123158278975\n",
            "Epoch 9: Training Accuracy 0.20794036036469585 |Validation Accuracy 0.19934593878903437\n",
            "Epoch 10: Training Accuracy 0.20758152181542094 |Validation Accuracy 0.19289183327295248\n",
            "Epoch 11: Training Accuracy 0.20729696775424505 |Validation Accuracy 0.2025620937347412\n",
            "Epoch 12: Training Accuracy 0.20712985467018555 |Validation Accuracy 0.19532440067494958\n",
            "Epoch 13: Training Accuracy 0.20755218344270068 |Validation Accuracy 0.19089648619438837\n",
            "Epoch 14: Training Accuracy 0.20605048605409332 |Validation Accuracy 0.19853558384099054\n",
            "Epoch 15: Training Accuracy 0.20691596110992272 |Validation Accuracy 0.20916352630818932\n",
            "Epoch 16: Training Accuracy 0.20718647759570402 |Validation Accuracy 0.20350565377948354\n",
            "Epoch 17: Training Accuracy 0.2060231845245044 |Validation Accuracy 0.20637127554532395\n",
            "Epoch 18: Training Accuracy 0.20708347928251397 |Validation Accuracy 0.20018432672741343\n",
            "Epoch 19: Training Accuracy 0.20547334270516948 |Validation Accuracy 0.1999761196016108\n"
          ],
          "name": "stdout"
        },
        {
          "output_type": "display_data",
          "data": {
            "image/png": "[encoded data removed]",
            "text/plain": [
              "<Figure size 432x288 with 1 Axes>"
            ]
          },
          "metadata": {
            "tags": [],
            "needs_background": "light"
          }
        },
        {
          "output_type": "display_data",
          "data": {
            "image/png": "[encoded data removed]",
            "text/plain": [
              "<Figure size 432x288 with 1 Axes>"
            ]
          },
          "metadata": {
            "tags": [],
            "needs_background": "light"
          }
        },
        {
          "output_type": "stream",
          "text": [
            "Final Training Accuracy: 0.20547334270516948\n",
            "Final Validation Accuracy: 0.1999761196016108\n"
          ],
          "name": "stdout"
        }
      ]
    },
    {
      "cell_type": "code",
      "metadata": {
        "id": "R1vAQ7JNNCs_",
        "colab_type": "code",
        "colab": {}
      },
      "source": [
        "from sklearn.linear_model import LogisticRegression\n",
        "from sklearn.linear_model import LinearRegression\n",
        "from sklearn import linear_model\n",
        "from sklearn.ensemble import RandomForestClassifier\n",
        "from sklearn.neighbors import KNeighborsClassifier\n",
        "from sklearn.tree import DecisionTreeClassifier\n",
        "from sklearn.svm import SVC, LinearSVC\n",
        "from xgboost import XGBClassifier\n",
        "\n",
        "from sklearn.metrics import make_scorer, accuracy_score, roc_auc_score \n",
        "from sklearn.model_selection import GridSearchCV\n",
        "from sklearn.model_selection import train_test_split\n",
        "from sklearn.preprocessing import StandardScaler"
      ],
      "execution_count": 126,
      "outputs": []
    },
    {
      "cell_type": "code",
      "metadata": {
        "id": "DqyxxSz9NYOl",
        "colab_type": "code",
        "colab": {}
      },
      "source": [
        "features = [\"duration\", \"key\", \"mode\", \"time_signature\", \"acousticness\", \"danceability\", \"energy\", \"instrumentalness\", \"liveness\", \"loudness\", \"speechiness\", \"valence\", \"tempo\"]\n",
        "training = normalized_df.sample(frac = 0.8,random_state = 420)\n",
        "# add to code before training SGDRegressor model\n",
        "\n",
        "X_train = training[features]\n",
        "y_train = training['popularity']\n",
        "X_test = normalized_df.drop(training.index)[features]\n",
        "\n",
        "scaler = StandardScaler()\n",
        "scaler.fit(X_train)\n",
        "X_t = scaler.transform(X_train)"
      ],
      "execution_count": 128,
      "outputs": []
    },
    {
      "cell_type": "code",
      "metadata": {
        "id": "rLHVQzJUQayA",
        "colab_type": "code",
        "colab": {}
      },
      "source": [
        "X_train, X_valid, y_train, y_valid = train_test_split(X_t, y_train, test_size = 0.2, random_state = 420)"
      ],
      "execution_count": 129,
      "outputs": []
    },
    {
      "cell_type": "code",
      "metadata": {
        "id": "UjQAGrpzNEFC",
        "colab_type": "code",
        "colab": {
          "base_uri": "https://localhost:8080/",
          "height": 411
        },
        "outputId": "c3571a52-0782-4737-cdba-c22023db22af"
      },
      "source": [
        "SGD_Model = linear_model.SGDRegressor()\n",
        "SGD_Model.fit(X_train, y_train)\n",
        "SGD_Predict = SGD_Model.predict(X_valid)\n",
        "predict = pd.DataFrame(SGD_Predict)\n",
        "predict = predict.reset_index(drop=True)\n",
        "val = pd.DataFrame(y_valid)\n",
        "val = val.reset_index(drop=True)\n",
        "compare = pd.concat([predict, val], axis=1)\n",
        "compare\n"
      ],
      "execution_count": 141,
      "outputs": [
        {
          "output_type": "execute_result",
          "data": {
            "text/html": [
              "<div>\n",
              "<style scoped>\n",
              "    .dataframe tbody tr th:only-of-type {\n",
              "        vertical-align: middle;\n",
              "    }\n",
              "\n",
              "    .dataframe tbody tr th {\n",
              "        vertical-align: top;\n",
              "    }\n",
              "\n",
              "    .dataframe thead th {\n",
              "        text-align: right;\n",
              "    }\n",
              "</style>\n",
              "<table border=\"1\" class=\"dataframe\">\n",
              "  <thead>\n",
              "    <tr style=\"text-align: right;\">\n",
              "      <th></th>\n",
              "      <th>0</th>\n",
              "      <th>popularity</th>\n",
              "    </tr>\n",
              "  </thead>\n",
              "  <tbody>\n",
              "    <tr>\n",
              "      <th>0</th>\n",
              "      <td>0.470431</td>\n",
              "      <td>0.80</td>\n",
              "    </tr>\n",
              "    <tr>\n",
              "      <th>1</th>\n",
              "      <td>0.478930</td>\n",
              "      <td>0.63</td>\n",
              "    </tr>\n",
              "    <tr>\n",
              "      <th>2</th>\n",
              "      <td>0.123215</td>\n",
              "      <td>0.30</td>\n",
              "    </tr>\n",
              "    <tr>\n",
              "      <th>3</th>\n",
              "      <td>0.460689</td>\n",
              "      <td>0.03</td>\n",
              "    </tr>\n",
              "    <tr>\n",
              "      <th>4</th>\n",
              "      <td>0.478892</td>\n",
              "      <td>0.61</td>\n",
              "    </tr>\n",
              "    <tr>\n",
              "      <th>...</th>\n",
              "      <td>...</td>\n",
              "      <td>...</td>\n",
              "    </tr>\n",
              "    <tr>\n",
              "      <th>875</th>\n",
              "      <td>0.450532</td>\n",
              "      <td>0.06</td>\n",
              "    </tr>\n",
              "    <tr>\n",
              "      <th>876</th>\n",
              "      <td>0.464413</td>\n",
              "      <td>0.63</td>\n",
              "    </tr>\n",
              "    <tr>\n",
              "      <th>877</th>\n",
              "      <td>0.489867</td>\n",
              "      <td>0.02</td>\n",
              "    </tr>\n",
              "    <tr>\n",
              "      <th>878</th>\n",
              "      <td>0.483063</td>\n",
              "      <td>0.67</td>\n",
              "    </tr>\n",
              "    <tr>\n",
              "      <th>879</th>\n",
              "      <td>0.165661</td>\n",
              "      <td>0.53</td>\n",
              "    </tr>\n",
              "  </tbody>\n",
              "</table>\n",
              "<p>880 rows × 2 columns</p>\n",
              "</div>"
            ],
            "text/plain": [
              "            0  popularity\n",
              "0    0.470431        0.80\n",
              "1    0.478930        0.63\n",
              "2    0.123215        0.30\n",
              "3    0.460689        0.03\n",
              "4    0.478892        0.61\n",
              "..        ...         ...\n",
              "875  0.450532        0.06\n",
              "876  0.464413        0.63\n",
              "877  0.489867        0.02\n",
              "878  0.483063        0.67\n",
              "879  0.165661        0.53\n",
              "\n",
              "[880 rows x 2 columns]"
            ]
          },
          "metadata": {
            "tags": []
          },
          "execution_count": 141
        }
      ]
    }
  ]
}